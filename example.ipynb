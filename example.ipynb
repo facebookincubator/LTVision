{
 "cells": [
  {
   "cell_type": "code",
   "execution_count": null,
   "id": "baa362e4",
   "metadata": {},
   "outputs": [],
   "source": [
    "# Copyright (c) Meta Platforms, Inc. and affiliates.\n",
    "\n",
    "# This source code is licensed under the BSD-style license found in the\n",
    "# LICENSE file in the root directory of this source tree."
   ]
  },
  {
   "cell_type": "code",
   "execution_count": null,
   "id": "4a8c55c0",
   "metadata": {},
   "outputs": [],
   "source": [
    "from src import LTVSyntheticData\n",
    "from src import LTVexploratory"
   ]
  },
  {
   "cell_type": "markdown",
   "id": "c5e7ab3c",
   "metadata": {},
   "source": [
    "### Generate synthetic data "
   ]
  },
  {
   "cell_type": "code",
   "execution_count": null,
   "id": "d5c84eec",
   "metadata": {},
   "outputs": [],
   "source": [
    "synth_data_gen = LTVSyntheticData(n_users=20000, random_seed=42)\n",
    "customer_table = synth_data_gen.get_customers_data()\n",
    "event_table = synth_data_gen.get_events_data()\n",
    "\n",
    "# Call the exploratory class\n",
    "da = LTVexploratory(\n",
    "    customer_table, \n",
    "    event_table,\n",
    "    registration_time_col='registration_date',\n",
    "    event_time_col='event_date',\n",
    "    event_name_col='event_name',\n",
    "    value_col='value'\n",
    "    )"
   ]
  },
  {
   "cell_type": "code",
   "execution_count": null,
   "id": "b2fbb3ba",
   "metadata": {},
   "outputs": [],
   "source": [
    "customer_table.head()"
   ]
  },
  {
   "cell_type": "code",
   "execution_count": null,
   "id": "a1a87178",
   "metadata": {},
   "outputs": [],
   "source": [
    "event_table.head()"
   ]
  },
  {
   "cell_type": "markdown",
   "id": "2181ffa7",
   "metadata": {},
   "source": [
    "### Run analysis"
   ]
  },
  {
   "cell_type": "code",
   "execution_count": null,
   "id": "aab5991b",
   "metadata": {},
   "outputs": [],
   "source": [
    "fig, data = da.plot_customers_intersection()\n",
    "fig"
   ]
  },
  {
   "cell_type": "code",
   "execution_count": null,
   "id": "8bea66ed",
   "metadata": {},
   "outputs": [],
   "source": [
    "fig, data = da.plot_paying_customers_flow(days_limit=60, early_limit=7, spending_breaks={'No spend': 0, 'Low spend': 10, 'Medium spend': 100, 'High spend': 99999})\n",
    "fig"
   ]
  },
  {
   "cell_type": "code",
   "execution_count": null,
   "id": "3f991ff1",
   "metadata": {},
   "outputs": [],
   "source": [
    "data"
   ]
  },
  {
   "cell_type": "code",
   "execution_count": null,
   "id": "bc5c3cf4",
   "metadata": {},
   "outputs": [],
   "source": [
    "fig, data = da.plot_customers_histogram_per_conversion_day(days_limit=60)\n",
    "fig"
   ]
  },
  {
   "cell_type": "code",
   "execution_count": null,
   "id": "b89c0319",
   "metadata": {},
   "outputs": [],
   "source": [
    "fig, data = da.plot_early_late_revenue_correlation(days_limit=70)\n",
    "fig"
   ]
  },
  {
   "cell_type": "code",
   "execution_count": null,
   "id": "6777d9c2",
   "metadata": {},
   "outputs": [],
   "source": [
    "data = da.estimate_highest_impact(days_limit=60, spending_breaks={'No spend': 0, 'Low spend': 10, 'Medium spend': 100, 'High spend': 99999})\n",
    "data"
   ]
  },
  {
   "cell_type": "code",
   "execution_count": null,
   "id": "0b0f2d4a",
   "metadata": {},
   "outputs": [],
   "source": []
  },
  {
   "cell_type": "code",
   "execution_count": null,
   "id": "028885b3",
   "metadata": {},
   "outputs": [],
   "source": []
  },
  {
   "cell_type": "code",
   "execution_count": null,
   "id": "d0a54d4c",
   "metadata": {},
   "outputs": [],
   "source": []
  }
 ],
 "metadata": {
  "kernelspec": {
   "display_name": "ltv_venv",
   "language": "python",
   "name": "ltv_venv"
  },
  "language_info": {
   "codemirror_mode": {
    "name": "ipython",
    "version": 3
   },
   "file_extension": ".py",
   "mimetype": "text/x-python",
   "name": "python",
   "nbconvert_exporter": "python",
   "pygments_lexer": "ipython3",
   "version": "3.9.13"
  }
 },
 "nbformat": 4,
 "nbformat_minor": 5
}
