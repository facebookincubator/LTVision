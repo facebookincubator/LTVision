{
 "cells": [
  {
   "cell_type": "code",
   "execution_count": null,
   "id": "baa362e4",
   "metadata": {},
   "outputs": [],
   "source": [
    "# Copyright (c) Meta Platforms, Inc. and affiliates.\n",
    "\n",
    "# This source code is licensed under the BSD-style license found in the\n",
    "# LICENSE file in the root directory of this source tree."
   ]
  },
  {
   "cell_type": "code",
   "execution_count": null,
   "id": "4a8c55c0",
   "metadata": {},
   "outputs": [],
   "source": [
    "from src import LTVSyntheticData\n",
    "from src import LTVexploratory"
   ]
  },
  {
   "cell_type": "markdown",
   "id": "c5e7ab3c",
   "metadata": {},
   "source": [
    "### Generate synthetic data "
   ]
  },
  {
   "cell_type": "code",
   "execution_count": null,
   "id": "d5c84eec",
   "metadata": {},
   "outputs": [],
   "source": [
    "synth_data_gen = LTVSyntheticData(is_subscr=False,              \n",
    "                                  share_payers=0.05,\n",
    "                                  share_high_payers= 0.05,\n",
    "                                  share_low_payers= 0.8)\n",
    "ancor_table = synth_data_gen.get_ancor_table()\n",
    "event_table = synth_data_gen.get_purchases()\n",
    "\n",
    "# Call the exploratory class\n",
    "da = LTVexploratory(ancor_table, event_table)"
   ]
  },
  {
   "cell_type": "markdown",
   "id": "2181ffa7",
   "metadata": {},
   "source": [
    "### Run analysis"
   ]
  },
  {
   "cell_type": "code",
   "execution_count": null,
   "id": "6192c3c6",
   "metadata": {},
   "outputs": [],
   "source": [
    "da.plot_n()"
   ]
  },
  {
   "cell_type": "code",
   "execution_count": null,
   "id": "8f08bea0",
   "metadata": {},
   "outputs": [],
   "source": [
    "da.plot_first_purchase()"
   ]
  },
  {
   "cell_type": "code",
   "execution_count": null,
   "id": "a0438153",
   "metadata": {},
   "outputs": [],
   "source": [
    "da.plot_second_purchase()"
   ]
  },
  {
   "cell_type": "code",
   "execution_count": null,
   "id": "f8e82ed8",
   "metadata": {},
   "outputs": [],
   "source": [
    "da.plot_uuid()"
   ]
  },
  {
   "cell_type": "code",
   "execution_count": null,
   "id": "9c16c0ea",
   "metadata": {},
   "outputs": [],
   "source": [
    "da.plot_linear_corr()"
   ]
  },
  {
   "cell_type": "code",
   "execution_count": null,
   "id": "7a4cc27a",
   "metadata": {},
   "outputs": [],
   "source": [
    "# Not working! \n",
    "#da.plot_sankey()"
   ]
  },
  {
   "cell_type": "code",
   "execution_count": null,
   "id": "2d1b4194",
   "metadata": {},
   "outputs": [],
   "source": [
    "da.plot_class_change()"
   ]
  },
  {
   "cell_type": "code",
   "execution_count": null,
   "id": "5fcbca07",
   "metadata": {},
   "outputs": [],
   "source": [
    "da.plot_drop_off()"
   ]
  },
  {
   "cell_type": "code",
   "execution_count": null,
   "id": "d491ec79",
   "metadata": {},
   "outputs": [],
   "source": [
    "# Needs better name! \n",
    "da.plot_()"
   ]
  },
  {
   "cell_type": "code",
   "execution_count": null,
   "id": "263af02c",
   "metadata": {},
   "outputs": [],
   "source": [
    "da.plot_freq()"
   ]
  },
  {
   "cell_type": "code",
   "execution_count": null,
   "id": "3f449eb4",
   "metadata": {},
   "outputs": [],
   "source": [
    "da.plot_apv()"
   ]
  },
  {
   "cell_type": "code",
   "execution_count": null,
   "id": "a119fac5",
   "metadata": {},
   "outputs": [],
   "source": [
    "da.plot_corr_freq_apv()"
   ]
  },
  {
   "cell_type": "code",
   "execution_count": null,
   "metadata": {},
   "outputs": [],
   "source": [
    "da.plot_users_intersection()"
   ]
  },
  {
   "cell_type": "code",
   "execution_count": null,
   "id": "fd41d6e0",
   "metadata": {},
   "outputs": [],
   "source": [
    "import numpy as np\n",
    "\n",
    "self = da\n",
    "days_limit = 60\n",
    "granularity =1000\n",
    "# Select only users that are at least [days_limit] days old\n",
    "end_events_date = self.joined_df[self.event_time_col].max()\n",
    "data = self.joined_df[\n",
    "    (end_events_date - self.joined_df[self.registration_time_col]).dt.days\n",
    "    >= days_limit\n",
    "].copy()\n",
    "\n",
    "# Remove users who never had a purchase and ensure all users have the same opportunity window\n",
    "data = data[\n",
    "    (data[self.event_time_col] - data[self.registration_time_col]).dt.days\n",
    "    <= days_limit\n",
    "]\n",
    "\n",
    "# Count how many purchase users had (defined by value > 0) and then how many users are in each place\n",
    "data = data[data[self.value_col] > 0]\n",
    "data = (\n",
    "    data.groupby(self.uuid_col)[self.value_col].sum()\n",
    "    .reset_index()\n",
    "    .sort_values(self.value_col, ascending=False)\n",
    ")\n",
    "\n",
    "# Calculate total revenue and group users together based on the granilarity\n",
    "total_revenue = data[self.value_col].sum()\n",
    "total_users = data.shape[0]\n",
    "data['cshare_users'] = [(i+1)/total_users for i in range(total_users)]\n",
    "data['cshare_revenue'] = data[self.value_col].cumsum() / total_revenue\n",
    "data.head(30)\n",
    "# data['group'] = data['cshare_users'].apply(lambda x: np.ceil(x*granularity))\n",
    "# data = (\n",
    "#     data\n",
    "#     .groupby(\"group\")[[\"cshare_users\", \"cshare_revenue\"]]\n",
    "#     .max()\n",
    "#     .reset_index()\n",
    "# )\n",
    "\n",
    "# self.graph.line_plot(\n",
    "#             data,\n",
    "#             x_axis=\"cshare_users\",\n",
    "#             y_axis=\"cshare_revenue\",\n",
    "#             xlabel=\"Share of paying customers\",\n",
    "#             ylabel=\"Share of revenue\",\n",
    "#             x_format=\"%\",\n",
    "#             y_format=\"%\",\n",
    "#             title=f\"Share of all revenue of the first {days_limit} days after customer registration (Y) versus share of paying customers\",\n",
    "#         )"
   ]
  },
  {
   "cell_type": "code",
   "execution_count": null,
   "id": "9c0e0174",
   "metadata": {},
   "outputs": [],
   "source": [
    "da.plot_revenue_pareto(days_limit=60)"
   ]
  },
  {
   "cell_type": "code",
   "execution_count": null,
   "metadata": {},
   "outputs": [],
   "source": [
    "da.plot_paying_users_flow(days_limit=60, early_limit=7, spending_breaks={'No spend': 0, 'Low spend': 10, 'Medium spend': 100, 'High spend': 99999})"
   ]
  },
  {
   "cell_type": "code",
   "execution_count": null,
   "metadata": {},
   "outputs": [],
   "source": [
    "da.plot_user_histogram_per_conversion_day(days_limit=60)"
   ]
  },
  {
   "cell_type": "code",
   "execution_count": null,
   "metadata": {},
   "outputs": [],
   "source": [
    "da.plot_early_late_revenue_correlation(days_limit=70)\n"
   ]
  },
  {
   "cell_type": "code",
   "execution_count": null,
   "metadata": {},
   "outputs": [],
   "source": []
  },
  {
   "cell_type": "code",
   "execution_count": null,
   "metadata": {},
   "outputs": [],
   "source": [
    "\n"
   ]
  },
  {
   "cell_type": "code",
   "execution_count": null,
   "metadata": {},
   "outputs": [],
   "source": []
  },
  {
   "cell_type": "code",
   "execution_count": null,
   "metadata": {},
   "outputs": [],
   "source": []
  }
 ],
 "metadata": {
  "kernelspec": {
   "display_name": "ltv_venv",
   "language": "python",
   "name": "ltv_venv"
  },
  "language_info": {
   "codemirror_mode": {
    "name": "ipython",
    "version": 3
   },
   "file_extension": ".py",
   "mimetype": "text/x-python",
   "name": "python",
   "nbconvert_exporter": "python",
   "pygments_lexer": "ipython3",
   "version": "3.9.13"
  }
 },
 "nbformat": 4,
 "nbformat_minor": 5
}
