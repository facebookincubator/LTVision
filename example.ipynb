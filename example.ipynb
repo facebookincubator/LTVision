{
 "cells": [
  {
   "cell_type": "code",
   "execution_count": null,
   "id": "baa362e4",
   "metadata": {},
   "outputs": [],
   "source": [
    "# Copyright (c) Meta Platforms, Inc. and affiliates.\n",
    "\n",
    "# This source code is licensed under the BSD-style license found in the\n",
    "# LICENSE file in the root directory of this source tree."
   ]
  },
  {
   "cell_type": "code",
   "execution_count": null,
   "id": "4a8c55c0",
   "metadata": {},
   "outputs": [],
   "source": [
    "from src import LTVSyntheticData\n",
    "from src import LTVexploratory"
   ]
  },
  {
   "cell_type": "markdown",
   "id": "c5e7ab3c",
   "metadata": {},
   "source": [
    "### Generate synthetic data "
   ]
  },
  {
   "cell_type": "code",
   "execution_count": null,
   "id": "d5c84eec",
   "metadata": {},
   "outputs": [],
   "source": [
    "synth_data_gen = LTVSyntheticData(is_subscr=False)\n",
    "ancor_table = synth_data_gen.get_ancor_table()\n",
    "event_table = synth_data_gen.get_purchases()\n",
    "\n",
    "# Call the exploratory class\n",
    "da = LTVexploratory(ancor_table, event_table)"
   ]
  },
  {
   "cell_type": "markdown",
   "id": "2181ffa7",
   "metadata": {},
   "source": [
    "### Run analysis"
   ]
  },
  {
   "cell_type": "code",
   "execution_count": null,
   "id": "6192c3c6",
   "metadata": {},
   "outputs": [],
   "source": [
    "da.plot_n()"
   ]
  },
  {
   "cell_type": "code",
   "execution_count": null,
   "id": "8f08bea0",
   "metadata": {},
   "outputs": [],
   "source": [
    "da.plot_first_purchase()"
   ]
  },
  {
   "cell_type": "code",
   "execution_count": null,
   "id": "a0438153",
   "metadata": {},
   "outputs": [],
   "source": [
    "da.plot_second_purchase()"
   ]
  },
  {
   "cell_type": "code",
   "execution_count": null,
   "id": "f8e82ed8",
   "metadata": {},
   "outputs": [],
   "source": [
    "da.plot_uuid()"
   ]
  },
  {
   "cell_type": "code",
   "execution_count": null,
   "id": "9c16c0ea",
   "metadata": {},
   "outputs": [],
   "source": [
    "da.plot_linear_corr()"
   ]
  },
  {
   "cell_type": "code",
   "execution_count": null,
   "id": "7a4cc27a",
   "metadata": {},
   "outputs": [],
   "source": [
    "# Not working! \n",
    "#da.plot_sankey()"
   ]
  },
  {
   "cell_type": "code",
   "execution_count": null,
   "id": "2d1b4194",
   "metadata": {},
   "outputs": [],
   "source": [
    "da.plot_class_change()"
   ]
  },
  {
   "cell_type": "code",
   "execution_count": null,
   "id": "5fcbca07",
   "metadata": {},
   "outputs": [],
   "source": [
    "da.plot_drop_off()"
   ]
  },
  {
   "cell_type": "code",
   "execution_count": null,
   "id": "d491ec79",
   "metadata": {},
   "outputs": [],
   "source": [
    "# Needs better name! \n",
    "da.plot_()"
   ]
  },
  {
   "cell_type": "code",
   "execution_count": null,
   "id": "263af02c",
   "metadata": {},
   "outputs": [],
   "source": [
    "da.plot_freq()"
   ]
  },
  {
   "cell_type": "code",
   "execution_count": null,
   "id": "3f449eb4",
   "metadata": {},
   "outputs": [],
   "source": [
    "da.plot_apv()"
   ]
  },
  {
   "cell_type": "code",
   "execution_count": null,
   "id": "a119fac5",
   "metadata": {},
   "outputs": [],
   "source": [
    "da.plot_corr_freq_apv()"
   ]
  },
  {
   "cell_type": "code",
   "execution_count": null,
   "metadata": {},
   "outputs": [],
   "source": [
    "da.plot_users_intersection()"
   ]
  },
  {
   "cell_type": "code",
   "execution_count": null,
   "metadata": {},
   "outputs": [],
   "source": [
    "da.plot_paying_users_flow(days_limit=60, early_limit=7, spending_breaks={'No spend': 0, 'Low spend': 10, 'Medium spend': 100, 'High spend': 99999})"
   ]
  },
  {
   "cell_type": "code",
   "execution_count": null,
   "metadata": {},
   "outputs": [],
   "source": [
    "da.plot_user_histogram_per_conversion_day(days_limit=60)"
   ]
  },
  {
   "cell_type": "code",
   "execution_count": null,
   "metadata": {},
   "outputs": [],
   "source": [
    "da.plot_early_late_revenue_correlation(days_limit=70)\n"
   ]
  },
  {
   "cell_type": "code",
   "execution_count": null,
   "metadata": {},
   "outputs": [],
   "source": []
  },
  {
   "cell_type": "code",
   "execution_count": null,
   "metadata": {},
   "outputs": [],
   "source": [
    "\n"
   ]
  },
  {
   "cell_type": "code",
   "execution_count": null,
   "metadata": {},
   "outputs": [],
   "source": []
  },
  {
   "cell_type": "code",
   "execution_count": null,
   "metadata": {},
   "outputs": [],
   "source": []
  }
 ],
 "metadata": {
  "kernelspec": {
   "display_name": "ltv_venv",
   "language": "python",
   "name": "ltv_venv"
  },
  "language_info": {
   "codemirror_mode": {
    "name": "ipython",
    "version": 3
   },
   "file_extension": ".py",
   "mimetype": "text/x-python",
   "name": "python",
   "nbconvert_exporter": "python",
   "pygments_lexer": "ipython3",
   "version": "3.9.13"
  }
 },
 "nbformat": 4,
 "nbformat_minor": 5
}
