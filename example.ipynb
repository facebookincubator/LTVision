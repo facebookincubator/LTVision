{
 "cells": [
  {
   "cell_type": "markdown",
   "id": "8270b8e7-dc13-4d6a-b4a2-b05e682ca20e",
   "metadata": {},
   "source": [
    "\n",
    "**Welcome to LTVision Module 1**\n",
    "\n",
    "Copyright (c) Meta Platforms, Inc. and affiliates.  <br>\n",
    "This source code is licensed under the BSD-style license, which can be found in the LICENSE file in the root directory of this source tree."
   ]
  },
  {
   "cell_type": "code",
   "execution_count": null,
   "id": "4a8c55c0",
   "metadata": {},
   "outputs": [],
   "source": [
    "from src import LTVSyntheticData\n",
    "from src import LTVexploratory\n",
    "from src.graph import save_plot"
   ]
  },
  {
   "cell_type": "markdown",
   "id": "c5e7ab3c",
   "metadata": {},
   "source": [
    "# Data Preparation"
   ]
  },
  {
   "cell_type": "markdown",
   "id": "b05c43ee-b182-458b-929f-8e6c8decf9c3",
   "metadata": {},
   "source": [
    "## Generate simulated data or import your own "
   ]
  },
  {
   "cell_type": "markdown",
   "id": "708b23ab-5c59-422a-b2af-bb3913cd893b",
   "metadata": {},
   "source": [
    "To demonstrate an end-to-end implementation of LTVision Module 1, run the below code to generate simulated demo data for 20,000 users with purchases over a period of 180 days. <br>"
   ]
  },
  {
   "cell_type": "code",
   "execution_count": null,
   "id": "d5c84eec",
   "metadata": {},
   "outputs": [],
   "source": [
    "\n",
    "synth_data_gen = LTVSyntheticData(n_users=20000, random_seed=42)\n",
    "customer_table = synth_data_gen.get_customers_data()\n",
    "event_table = synth_data_gen.get_events_data()\n"
   ]
  },
  {
   "cell_type": "markdown",
   "id": "4aa8c97a-732f-4cc8-a19b-12696d23d502",
   "metadata": {},
   "source": [
    "When you are ready to run LTVision Module 1 with your own data, follow the data requirements in the documentation and run the following code to import your data. Don’t forget to update ‘example.csv’ with your file path and name: <br>\n",
    "      \n",
    "*import pandas as pd* <br>\n",
    "*customer_table = pd.read_csv('example.csv')* <br>\n",
    "*event_table = pd.read_csv('example.csv')*\n"
   ]
  },
  {
   "cell_type": "markdown",
   "id": "a4079719-08fb-43ab-ad3b-d5efba78055a",
   "metadata": {},
   "source": [
    "## Format Data"
   ]
  },
  {
   "cell_type": "markdown",
   "id": "dc53e646-f17c-4a09-9cfe-e8da071b8551",
   "metadata": {},
   "source": [
    "Before analysis begins, use the **“LTVexploratory”** function to map data into structured formats. <br>"
   ]
  },
  {
   "cell_type": "code",
   "execution_count": null,
   "id": "df1fe136-3ba7-4b71-9482-9270cce8fb93",
   "metadata": {},
   "outputs": [],
   "source": [
    "\n",
    "da = LTVexploratory(\n",
    "    customer_table, \n",
    "    event_table,\n",
    "    registration_time_col='registration_date',\n",
    "    event_time_col='event_date',\n",
    "    event_name_col='event_name',\n",
    "    value_col='value'\n",
    "    )"
   ]
  },
  {
   "cell_type": "markdown",
   "id": "7129e3b3-ea0c-4de0-80b7-5cf708eb63d0",
   "metadata": {},
   "source": [
    "# Data Validation"
   ]
  },
  {
   "cell_type": "markdown",
   "id": "e8fabad4-2909-423f-b56f-3d36c67194ab",
   "metadata": {},
   "source": [
    "## Customer & Event table overview"
   ]
  },
  {
   "cell_type": "markdown",
   "id": "450bacc2-26fb-48fa-8d61-703a7d9f24e1",
   "metadata": {},
   "source": [
    "The *‘customer’* table is a user-level table that defines the Day0 of each user who has engaged with the business, marking the initial point of interaction or anchor event, such as installing the App or making a first purchase. <br> "
   ]
  },
  {
   "cell_type": "code",
   "execution_count": null,
   "id": "b2fbb3ba",
   "metadata": {},
   "outputs": [],
   "source": [
    "\n",
    "customer_table.head()\n"
   ]
  },
  {
   "cell_type": "markdown",
   "id": "717d3a1b-c4ae-4033-a46b-39396cf61d6a",
   "metadata": {},
   "source": [
    "The *‘event’* table is a transaction-level documentation of all revenue-generating events completed for the advertising unit. <br> "
   ]
  },
  {
   "cell_type": "code",
   "execution_count": null,
   "id": "a1a87178",
   "metadata": {},
   "outputs": [],
   "source": [
    "\n",
    "event_table.head()\n"
   ]
  },
  {
   "cell_type": "markdown",
   "id": "2181ffa7",
   "metadata": {},
   "source": [
    "## Customer & Event table overlap"
   ]
  },
  {
   "cell_type": "markdown",
   "id": "fc643d64-5125-4a6c-9a11-52542aa5b551",
   "metadata": {},
   "source": [
    "The **\"plot_customers_intersection\"** function shows how much percent of customers are actually purchasers and whether there are customers who are present in the customer table but not present in the events table, and therefore need to be excluded from following analysis.<br> "
   ]
  },
  {
   "cell_type": "code",
   "execution_count": null,
   "id": "aab5991b",
   "metadata": {},
   "outputs": [],
   "source": [
    "# Intersection between users in the two datasets\n",
    "fig, data = da.plot_customers_intersection()\n",
    "save_plot(fig, \"images/customer_intersection.png\")\n"
   ]
  },
  {
   "cell_type": "markdown",
   "id": "21a198b5-1f74-4937-bea0-9892314b61d5",
   "metadata": {},
   "source": [
    "From the demo data output we can see that: <br> \n",
    "1. Upper right: 95.6% of customers are not generating any revenue <br> \n",
    "2. Lower right: 4.4% of all customers are revenue-generating customers or purchasers <br> \n",
    "3. Lower left: 0.0% means everyone in the customer table are also in the events table, therefore, there’s no need to exclude any customers from following analysis.<br> \n",
    "4. Upper left: should always be 0% 0.0% <br> "
   ]
  },
  {
   "cell_type": "markdown",
   "id": "2eca4f12-7d6b-4eaf-b4ab-46d26103abb8",
   "metadata": {},
   "source": [
    "\n",
    "# Purchase Frequency"
   ]
  },
  {
   "cell_type": "markdown",
   "id": "d9e8ea12-e0be-4bfa-aef3-b9ea3a36f2b3",
   "metadata": {},
   "source": [
    "The **“plot_purchases_distribution”** function visualizes the purchase frequency among all purchasers. <br> \n",
    "\n",
    "This function has two input parameters: <br> \n",
    "\n",
    "*days_limit:* This parameter defines the minimum duration since a customers’ initial interaction, for them to be included in this  visualization. In this example, the time frame is set at 60 days, but you can change it to a time frame that makes most sense for your business. (e.g. 30 days, 120 days or 365 days etc.)<br> \n",
    "\n",
    "*truncate_share:* This parameter defines the percentage of all purchasers that are shown in this visualization, or the percentage of ‘outliers’ that are excluded from this visualization, to make this histogram easier to read. In this example, the truncate_share is set to 0.999, which means that the top 0.1% of the highest spenders were excluded from this visualization.<br> \n"
   ]
  },
  {
   "cell_type": "code",
   "execution_count": null,
   "id": "b64ef6f9",
   "metadata": {},
   "outputs": [],
   "source": [
    "\n",
    "fig, data = da.plot_purchases_distribution(days_limit=60, truncate_share=0.999)\n",
    "save_plot(fig, \"images/purchases_distribution.png\")\n",
    "fig\n"
   ]
  },
  {
   "cell_type": "markdown",
   "id": "d659d278-6021-47d3-8035-6233f8fb31c2",
   "metadata": {},
   "source": [
    "From the demo data output, we can see that: <br> \n",
    "\n",
    "- 39% of all purchasers have purchased only once <br> \n",
    "- 29% purchased twice<br> \n",
    "- 14% purchased three times<br> "
   ]
  },
  {
   "cell_type": "markdown",
   "id": "087685ed-4229-4634-b744-4ca6be23dc07",
   "metadata": {},
   "source": [
    "# Top spenders' contribution to total revenue"
   ]
  },
  {
   "cell_type": "markdown",
   "id": "51454699-dd5a-45af-a739-0eb875509d2b",
   "metadata": {},
   "source": [
    "The **“plot_revenue_pareto”** function visualizes if a significant portion of revenue was contributed by a small group of high spenders.<br> \n",
    "\n",
    "Similar to *“plot_purchases_distribution”*, the *“plot_revenue_pareto”* function uses the same days_limit parameter to generate the output and it operates on the same customer cohorts as the *“plot_purchases_distribution”* function. <br>\n",
    "\n",
    "*days_limit:* Defines the minimum duration since a customers’ initial interaction, for them to be included in this visualization. In this example, the limit is set at 60 days.<br> \n"
   ]
  },
  {
   "cell_type": "code",
   "execution_count": null,
   "id": "a8e6eb43",
   "metadata": {},
   "outputs": [],
   "source": [
    "\n",
    "fig, data = da.plot_revenue_pareto(days_limit=60)\n",
    "save_plot(fig, \"images/revenue_pareto.png\")\n",
    "fig\n"
   ]
  },
  {
   "cell_type": "markdown",
   "id": "b09f9046-9f45-4f28-a869-10f02bcdc7e6",
   "metadata": {},
   "source": [
    "From the demo data output we can see that: <br> \n",
    "- The top 5% highest spending customers contributed to 69% of total revenue<br>\n",
    "- The top 10% contributed to 75% of total revenue<br>\n",
    "- The top 20% contributed to more than 84% of total revenue<br>"
   ]
  },
  {
   "cell_type": "markdown",
   "id": "5ff303b1-6daf-49d6-9f31-1571b0c11f2a",
   "metadata": {},
   "source": [
    "# Time to first purchase"
   ]
  },
  {
   "cell_type": "markdown",
   "id": "7134a68b-9d1a-4c75-b55b-8bad8b2a9d98",
   "metadata": {},
   "source": [
    "The **“plot_customers_histogram_per_conversion_day”** function visualizes the duration between the initial interaction and the first purchase.<br> \n",
    "This function also uses the *days_limit* parameter. <br>"
   ]
  },
  {
   "cell_type": "code",
   "execution_count": null,
   "id": "bc5c3cf4",
   "metadata": {},
   "outputs": [],
   "source": [
    "\n",
    "fig, data = da.plot_customers_histogram_per_conversion_day(days_limit=60)\n",
    "save_plot(fig, \"images/customers_histogram_per_conversion_day.png\")\n",
    "fig\n"
   ]
  },
  {
   "cell_type": "markdown",
   "id": "4ce283ba-bf00-4952-a138-59399e3385eb",
   "metadata": {},
   "source": [
    "From the demo data output we can see that: <br>\n",
    "\n",
    "- 55% of first-time purchases happened within 7 days of the initial interaction<br>\n",
    "- Since the remaining 45% of first purchases happen beyond the 7-day optimization window, it means that the current digital customer acquisition campaign is missing out on 45% of the purchases that happen outside the 7-day optimization window<br>"
   ]
  },
  {
   "cell_type": "markdown",
   "id": "7c0c7a30-7b55-4fcf-ac32-1bb96e724936",
   "metadata": {},
   "source": [
    "# Correlation between short-term and long-term revenue"
   ]
  },
  {
   "cell_type": "markdown",
   "id": "d5922e72-7a55-4afb-a445-0daa5d706998",
   "metadata": {},
   "source": [
    "The **“plot_early_late_revenue_correlation”** function demonstrates the correlation between short-term and long-term purchase values across various timeframes. <br>\n",
    "This function also uses the *days_limit* parameter.<br>"
   ]
  },
  {
   "cell_type": "code",
   "execution_count": null,
   "id": "b89c0319",
   "metadata": {},
   "outputs": [],
   "source": [
    "\n",
    "fig, data = da.plot_early_late_revenue_correlation(days_limit=70)\n",
    "save_plot(fig, \"images/early_late_revenue_correlation.jpeg\")\n"
   ]
  },
  {
   "cell_type": "markdown",
   "id": "5ba482f1-a332-4afa-a320-803b296f1528",
   "metadata": {},
   "source": [
    "From the demo data output we can see that:  <br>\n",
    "\n",
    "- There is high correlation in early time frames. For example, the correlation between day-7 revenue and day-10 revenue is a robust 95%\n",
    "- However, as time progresses, the correlation between day-7 revenue and future revenue weakens significantly. By day-22, this correlation has already dropped below 40%. This suggests that day-7 revenue is not a reliable indicator for revenue on day-22 and beyond.\n",
    "- This diminishing correlation between early and later revenue is a crucial indicator of the potential value a pLTV strategy could bring to a business.<br>\n"
   ]
  },
  {
   "cell_type": "markdown",
   "id": "3b30780e-5583-4bef-badd-19620db32af0",
   "metadata": {},
   "source": [
    "# Purchaser flow overtime"
   ]
  },
  {
   "cell_type": "markdown",
   "id": "bdbad4c5-8deb-422b-b005-9d25d060deee",
   "metadata": {},
   "source": [
    "The **“plot_paying_customers_flow”** function provides further insights into purchasers’ buying behavior overtime, showing how low, medium and high purchasers flow to the same or different classes at a later point in time. <br>\n",
    "\n",
    "This function has two input parameters: <br>\n",
    "\n",
    "*early_limit:* This parameter sets the time stamp on the left axis, which shows the cumulative value of a customer by that early point in time, categorized into equally sized and ranked groups: No spend, low spend, medium spend and high spend; It’s set to 7 days by default because most digital campaigns have a 7-day optimization window.\n",
    "\n",
    "*days_limit:* This parameter sets the time stamp on the right axis, which shows the cumulative value of the same customer at a later point in time, again categorized into equally sized and ranked groups: low spend, medium spend and high spend; feel free to play with this parameter and experiment with different future timestamps (e.g. 120 days, 180 days, 365 days etc.), to gain a more nuanced exploration of your customers’ purchasing behavior across different time frames. \n",
    "\n",
    "**Please note** that this visualization includes ALL purchasers defined by the days_limit parameter. In this example, early_limit is set to 7 days and days_limit is set to 60 days, which means this visualization includes ALL purchasers up to day 60 from initial interaction. <br>"
   ]
  },
  {
   "cell_type": "code",
   "execution_count": null,
   "id": "8bea66ed",
   "metadata": {},
   "outputs": [],
   "source": [
    "\n",
    "fig, data = da.plot_paying_customers_flow(days_limit=60, early_limit=7, spending_breaks={}, end_spending_breaks={})\n",
    "save_plot(fig, \"images/paying_customer_flow.png\", dpi=400) # you can increase the dpi to get a higher resolution\n",
    "fig"
   ]
  },
  {
   "cell_type": "code",
   "execution_count": null,
   "id": "f0875799",
   "metadata": {},
   "outputs": [],
   "source": [
    "data\n"
   ]
  },
  {
   "cell_type": "markdown",
   "id": "677db629-26b2-4fb1-9bbe-045e8e7d9634",
   "metadata": {},
   "source": [
    "From the demo data output we can see that: <br>\n",
    "\n",
    "- 27% of no spenders by day-7 became high spenders by day-60 (99/(156+111+99) = 27%)\n",
    "- 29% of low spenders by day-7 became high spenders by day-60 (44/(68+38+44) = 29%)\n",
    "- 23% of medium spenders by day-7 became high spenders by day-60 (35/(48+67+35) = 23%)\n",
    "- In total, 66% of high spenders by day-60 were not high spenders at day-7 ((99+44+35)/(99+44+35+93) = 178/271 = 66%) <br>\n"
   ]
  },
  {
   "cell_type": "markdown",
   "id": "50dae9eb-b025-43d7-8035-228be3d70aa1",
   "metadata": {},
   "source": [
    "# pLTV Opportunity Size Estimation"
   ]
  },
  {
   "cell_type": "markdown",
   "id": "07efb2b9-37c7-405a-90de-994e61459e14",
   "metadata": {},
   "source": [
    "**The goal of estimating the pLTV opportunity size is to enable businesses to make informed decision on whether investing in pLTV models and strategies should take priority over other initiatives.** <br>"
   ]
  },
  {
   "cell_type": "markdown",
   "id": "31422755-b8bf-44b0-b8e1-4d3eb9ea7578",
   "metadata": {},
   "source": [
    "**Key definitions**: <br>\n",
    "\n",
    "- *pLTV opportunity size:* The additional revenue lift generated by building a pLTV model and activating a pLTV strategy, compared to the business’ existing customer acquisition strategy, to help decision makers evaluate the potential ROI before investing in a pLTV model and strategy.\n",
    "- *Baseline/business-as-usual Customer Acquisition strategy:* A broad targeted strategy (without any constraints on the target audience) optimizing towards a standard revenue event (e.g. Purchase, Subscription, in-app purchase etc.), with the goal to acquire new customers.\n",
    "- *pLTV strategy:* A broad targeted acquisition strategy optimizing towards acquiring high-pLTV customers, with the goal to increase long-term revenue/profitability of a business. <br>\n"
   ]
  },
  {
   "cell_type": "markdown",
   "id": "2ce66e33-2c91-4a3a-a9eb-24841b235c76",
   "metadata": {},
   "source": [
    "**Key Assumptions**: <br>\n",
    "\n",
    "The pLTV opportunity size for a specific business depends on the business’ ability to first identify high-value new customers with a pLTV model and then acquire high-value customers with a pLTV strategy through signal-based and scalable digital marketing platforms. <br>\n",
    "\n",
    "1. *Identify high-value customers:* The pLTV model is able to predict user-level, long-term LTV values for all new users with high accuracy.\n",
    "2. *Acquire high-value customers:* With the same Customer Acquisition budget, a pLTV strategy implemented on a scalable digital marketing platform, is able to acquire the same number of new customers but with higher pLTV values, compared to those acquired through a business as usual strategy. \n",
    "3. *Signal-based & scalable digital marketing platform:* Signal-based platforms with a large and active user community, such as Meta, are scalable enough to find and convert net new high-value customers based on the signals provided to the optimization algorithms. For example, Meta’s 3.2 billion daily active users provide a vast pool of potential customers, making it possible to find and convert relevant customers based on provided optimization signals without compromising on conversion volume. \n",
    "\n",
    "**Please note** that the opportunity size estimation in LTVision is primarily based on how pLTV strategies function on Meta platforms. However, these assumptions may also hold true for strategies on other scalable platforms. <br>"
   ]
  },
  {
   "cell_type": "code",
   "execution_count": null,
   "id": "6777d9c2",
   "metadata": {},
   "outputs": [],
   "source": [
    "# If spending breaks is empty, it will find default values, you can specify your own groups in the format Dict[str, float],\n",
    "# e.g. {'No spend': 0, 'Low spend': 10, 'Medium spend': 100, 'High spend': 1000}\n",
    "# if you are a mobile/gaming company, use True for is_mobile or False if you are eCommerce\n",
    "data = da.estimate_ltv_impact(\n",
    "    days_limit=60, \n",
    "    early_limit=7, \n",
    "    spending_breaks={},\n",
    "    is_mobile=False)\n",
    "data"
   ]
  },
  {
   "cell_type": "markdown",
   "id": "eb128e23-b3c2-44f7-af13-7aa0b037ef89",
   "metadata": {},
   "source": [
    "Based on the demo data: <br>\n",
    "\n",
    "- If user identification happens before the 1st Purchase/revenue event, implementing a pLTV strategy could lead to 36,100 additional revenue or an estimated **maximum revenue increase of 203%**, compared to the BAU acquisition strategy\n",
    "- If user identification relies on the 1st Purchase/revenue event, implementing a pLTV strategy could lead to 2,686 additional revenue or an estimated **maximum revenue increase of 15%**, compared to the BAU acquisition strategy. <br>\n"
   ]
  },
  {
   "cell_type": "markdown",
   "id": "6d46559d-0ef0-4276-b049-6bc4c66b0567",
   "metadata": {},
   "source": [
    "Now the estimated additional revenue is in place, businesses can proceed to calculate the **ROI** of the entire pLTV initiative by dividing the additional revenue by the estimated costs. <br>\n",
    "\n",
    "To calculate the **ROI**, an estimation of the associated costs is needed, which includes both developing and maintaining the pLTV model, and activating and optimizing the pLTV strategy across various platforms. <br>\n",
    "\n",
    "Please refer to the **LTVision documentation** for detailed explanations on the assumptions and formulas used in the Opportunity Size Estimations. <br>\n"
   ]
  },
  {
   "cell_type": "code",
   "execution_count": null,
   "id": "a2f5a377",
   "metadata": {},
   "outputs": [],
   "source": []
  }
 ],
 "metadata": {
  "kernelspec": {
   "display_name": "Python 3 (ipykernel)",
   "language": "python",
   "name": "python3"
  },
  "language_info": {
   "codemirror_mode": {
    "name": "ipython",
    "version": 3
   },
   "file_extension": ".py",
   "mimetype": "text/x-python",
   "name": "python",
   "nbconvert_exporter": "python",
   "pygments_lexer": "ipython3",
   "version": "3.12.3"
  },
  "toc": {
   "base_numbering": 1,
   "nav_menu": {},
   "number_sections": true,
   "sideBar": true,
   "skip_h1_title": false,
   "title_cell": "Table of Contents",
   "title_sidebar": "Contents",
   "toc_cell": false,
   "toc_position": {},
   "toc_section_display": true,
   "toc_window_display": false
  },
  "varInspector": {
   "cols": {
    "lenName": 16,
    "lenType": 16,
    "lenVar": 40
   },
   "kernels_config": {
    "python": {
     "delete_cmd_postfix": "",
     "delete_cmd_prefix": "del ",
     "library": "var_list.py",
     "varRefreshCmd": "print(var_dic_list())"
    },
    "r": {
     "delete_cmd_postfix": ") ",
     "delete_cmd_prefix": "rm(",
     "library": "var_list.r",
     "varRefreshCmd": "cat(var_dic_list()) "
    }
   },
   "types_to_exclude": [
    "module",
    "function",
    "builtin_function_or_method",
    "instance",
    "_Feature"
   ],
   "window_display": false
  }
 },
 "nbformat": 4,
 "nbformat_minor": 5
}
