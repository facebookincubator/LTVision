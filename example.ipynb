{
 "cells": [
  {
   "cell_type": "code",
   "execution_count": 7,
   "id": "baa362e4",
   "metadata": {},
   "outputs": [],
   "source": [
    "# Copyright (c) Meta Platforms, Inc. and affiliates.\n",
    "\n",
    "# This source code is licensed under the BSD-style license found in the\n",
    "# LICENSE file in the root directory of this source tree."
   ]
  },
  {
   "cell_type": "code",
   "execution_count": 8,
   "id": "4a8c55c0",
   "metadata": {},
   "outputs": [],
   "source": [
    "from src import LTVSyntheticData\n",
    "from src import LTVexploratory"
   ]
  },
  {
   "cell_type": "markdown",
   "id": "c5e7ab3c",
   "metadata": {},
   "source": [
    "### Generate synthetic data "
   ]
  },
  {
   "cell_type": "code",
   "execution_count": 9,
   "id": "d5c84eec",
   "metadata": {},
   "outputs": [
    {
     "data": {
      "text/html": [
       "<div>\n",
       "<style scoped>\n",
       "    .dataframe tbody tr th:only-of-type {\n",
       "        vertical-align: middle;\n",
       "    }\n",
       "\n",
       "    .dataframe tbody tr th {\n",
       "        vertical-align: top;\n",
       "    }\n",
       "\n",
       "    .dataframe thead th {\n",
       "        text-align: right;\n",
       "    }\n",
       "</style>\n",
       "<table border=\"1\" class=\"dataframe\">\n",
       "  <thead>\n",
       "    <tr style=\"text-align: right;\">\n",
       "      <th></th>\n",
       "      <th>table</th>\n",
       "      <th>number_uuid</th>\n",
       "      <th>share_uuid</th>\n",
       "    </tr>\n",
       "  </thead>\n",
       "  <tbody>\n",
       "    <tr>\n",
       "      <th>0</th>\n",
       "      <td>ancor only</td>\n",
       "      <td>8003</td>\n",
       "      <td>80.03%</td>\n",
       "    </tr>\n",
       "    <tr>\n",
       "      <th>1</th>\n",
       "      <td>event only</td>\n",
       "      <td>0</td>\n",
       "      <td>0.00%</td>\n",
       "    </tr>\n",
       "    <tr>\n",
       "      <th>2</th>\n",
       "      <td>ancor &amp; event</td>\n",
       "      <td>1997</td>\n",
       "      <td>19.97%</td>\n",
       "    </tr>\n",
       "  </tbody>\n",
       "</table>\n",
       "</div>"
      ],
      "text/plain": [
       "           table  number_uuid share_uuid\n",
       "0     ancor only         8003     80.03%\n",
       "1     event only            0      0.00%\n",
       "2  ancor & event         1997     19.97%"
      ]
     },
     "metadata": {},
     "output_type": "display_data"
    },
    {
     "name": "stdout",
     "output_type": "stream",
     "text": [
      "We are going to delete 0.00% UUID from df table because of negative value between first purchase date and registration\n"
     ]
    }
   ],
   "source": [
    "synth_data_gen = LTVSyntheticData(is_subscr=False)\n",
    "ancor_table = synth_data_gen.get_ancor_table()\n",
    "event_table = synth_data_gen.get_purchases()\n",
    "\n",
    "# Call the exploratory class\n",
    "da = LTVexploratory(ancor_table, event_table)"
   ]
  },
  {
   "cell_type": "markdown",
   "id": "2181ffa7",
   "metadata": {},
   "source": [
    "### Run analysis"
   ]
  },
  {
   "cell_type": "code",
   "execution_count": 10,
   "id": "6192c3c6",
   "metadata": {},
   "outputs": [
    {
     "ename": "AttributeError",
     "evalue": "'LTVexploratory' object has no attribute 'plot_n'",
     "output_type": "error",
     "traceback": [
      "\u001b[0;31m---------------------------------------------------------------------------\u001b[0m",
      "\u001b[0;31mAttributeError\u001b[0m                            Traceback (most recent call last)",
      "Cell \u001b[0;32mIn[10], line 1\u001b[0m\n\u001b[0;32m----> 1\u001b[0m da\u001b[39m.\u001b[39;49mplot_n()\n",
      "\u001b[0;31mAttributeError\u001b[0m: 'LTVexploratory' object has no attribute 'plot_n'"
     ]
    }
   ],
   "source": [
    "da.plot_n()"
   ]
  },
  {
   "cell_type": "code",
   "execution_count": null,
   "id": "8f08bea0",
   "metadata": {},
   "outputs": [],
   "source": [
    "da.plot_first_purchase()"
   ]
  },
  {
   "cell_type": "code",
   "execution_count": null,
   "id": "a0438153",
   "metadata": {},
   "outputs": [],
   "source": [
    "da.plot_second_purchase()"
   ]
  },
  {
   "cell_type": "code",
   "execution_count": null,
   "id": "f8e82ed8",
   "metadata": {},
   "outputs": [],
   "source": [
    "da.plot_uuid()"
   ]
  },
  {
   "cell_type": "code",
   "execution_count": null,
   "id": "9c16c0ea",
   "metadata": {},
   "outputs": [],
   "source": [
    "da.plot_linear_corr()"
   ]
  },
  {
   "cell_type": "code",
   "execution_count": null,
   "id": "7a4cc27a",
   "metadata": {},
   "outputs": [],
   "source": [
    "# Not working! \n",
    "#da.plot_sankey()"
   ]
  },
  {
   "cell_type": "code",
   "execution_count": null,
   "id": "2d1b4194",
   "metadata": {},
   "outputs": [],
   "source": [
    "da.plot_class_change()"
   ]
  },
  {
   "cell_type": "code",
   "execution_count": null,
   "id": "5fcbca07",
   "metadata": {},
   "outputs": [],
   "source": [
    "da.plot_drop_off()"
   ]
  },
  {
   "cell_type": "code",
   "execution_count": null,
   "id": "d491ec79",
   "metadata": {},
   "outputs": [],
   "source": [
    "# Needs better name! \n",
    "da.plot_()"
   ]
  },
  {
   "cell_type": "code",
   "execution_count": null,
   "id": "263af02c",
   "metadata": {},
   "outputs": [],
   "source": [
    "da.plot_freq()"
   ]
  },
  {
   "cell_type": "code",
   "execution_count": null,
   "id": "3f449eb4",
   "metadata": {},
   "outputs": [],
   "source": [
    "da.plot_apv()"
   ]
  },
  {
   "cell_type": "code",
   "execution_count": null,
   "id": "a119fac5",
   "metadata": {},
   "outputs": [],
   "source": [
    "da.plot_corr_freq_apv()"
   ]
  }
 ],
 "metadata": {
  "kernelspec": {
   "display_name": "venv",
   "language": "python",
   "name": "python3"
  },
  "language_info": {
   "codemirror_mode": {
    "name": "ipython",
    "version": 3
   },
   "file_extension": ".py",
   "mimetype": "text/x-python",
   "name": "python",
   "nbconvert_exporter": "python",
   "pygments_lexer": "ipython3",
   "version": "3.8.5"
  }
 },
 "nbformat": 4,
 "nbformat_minor": 5
}
