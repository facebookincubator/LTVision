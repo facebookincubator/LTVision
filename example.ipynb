{
 "cells": [
  {
   "cell_type": "code",
   "execution_count": null,
   "id": "baa362e4",
   "metadata": {},
   "outputs": [],
   "source": [
    "# Copyright (c) Meta Platforms, Inc. and affiliates.\n",
    "\n",
    "# This source code is licensed under the BSD-style license found in the\n",
    "# LICENSE file in the root directory of this source tree."
   ]
  },
  {
   "cell_type": "code",
   "execution_count": null,
   "id": "4a8c55c0",
   "metadata": {},
   "outputs": [],
   "source": [
    "from src import LTVSyntheticData\n",
    "from src import LTVexploratory"
   ]
  },
  {
   "cell_type": "markdown",
   "id": "c5e7ab3c",
   "metadata": {},
   "source": [
    "### Generate synthetic data "
   ]
  },
  {
   "cell_type": "code",
   "execution_count": null,
   "id": "d5c84eec",
   "metadata": {},
   "outputs": [],
   "source": [
    "synth_data_gen = LTVSyntheticData(n_users=20000, random_seed=42)\n",
    "customer_table = synth_data_gen.get_customers_data()\n",
    "event_table = synth_data_gen.get_events_data()\n",
    "\n",
    "# Call the exploratory class\n",
    "da = LTVexploratory(\n",
    "    customer_table, \n",
    "    event_table,\n",
    "    registration_time_col='registration_date',\n",
    "    event_time_col='event_date',\n",
    "    event_name_col='event_name',\n",
    "    value_col='value'\n",
    "    )"
   ]
  },
  {
   "cell_type": "code",
   "execution_count": null,
   "id": "b2fbb3ba",
   "metadata": {},
   "outputs": [],
   "source": [
    "customer_table.head()"
   ]
  },
  {
   "cell_type": "code",
   "execution_count": null,
   "id": "a1a87178",
   "metadata": {},
   "outputs": [],
   "source": [
    "event_table.head()"
   ]
  },
  {
   "cell_type": "markdown",
   "id": "2181ffa7",
   "metadata": {},
   "source": [
    "### Run analysis"
   ]
  },
  {
   "cell_type": "code",
   "execution_count": null,
   "id": "aab5991b",
   "metadata": {},
   "outputs": [],
   "source": [
    "# Intersection between users in the two datasets\n",
    "fig, data = da.plot_customers_intersection()\n",
    "fig"
   ]
  },
  {
   "cell_type": "code",
   "execution_count": null,
   "id": "8bea66ed",
   "metadata": {},
   "outputs": [],
   "source": [
    "# Paying customers flow from a classification at the beginning to another classification after a longer period.\n",
    "# If spending breaks is empty, it will find default values, you can specify your own groups in the format Dict[str, float],\n",
    "# e.g. {'No spend': 0, 'Low spend': 10, 'Medium spend': 100, 'High spend': 1000}\n",
    "fig, data = da.plot_paying_customers_flow(days_limit=60, early_limit=7, spending_breaks={}, end_spending_breaks={})\n",
    "fig"
   ]
  },
  {
   "cell_type": "code",
   "execution_count": null,
   "id": "3f991ff1",
   "metadata": {},
   "outputs": [],
   "source": [
    "data"
   ]
  },
  {
   "cell_type": "code",
   "execution_count": null,
   "id": "a8e6eb43",
   "metadata": {},
   "outputs": [],
   "source": [
    "# Visualize how the revenue is concentrated by looking at % of revenue that the highest spending customers contribute\n",
    "fig, data = da.plot_revenue_pareto(days_limit=60)"
   ]
  },
  {
   "cell_type": "code",
   "execution_count": null,
   "id": "b64ef6f9",
   "metadata": {},
   "outputs": [],
   "source": [
    "# Purchase Frequency (or just total purchases) in the first N days of a customer\n",
    "fig, data = da.plot_purchases_distribution(days_limit=60, truncate_share=0.999)\n",
    "fig\n"
   ]
  },
  {
   "cell_type": "code",
   "execution_count": null,
   "id": "bc5c3cf4",
   "metadata": {},
   "outputs": [],
   "source": [
    "# Plot when the customers convert (i.e. generate a revenue event), \n",
    "# showing how many customers are actually captured by the optimization window of the marketing campaign\n",
    "fig, data = da.plot_customers_histogram_per_conversion_day(days_limit=60)\n",
    "fig"
   ]
  },
  {
   "cell_type": "code",
   "execution_count": null,
   "id": "b89c0319",
   "metadata": {},
   "outputs": [],
   "source": [
    "# Show the correlation of the revenue in the first N days of a customer (in this case 7) with the revenye up to M days (e.g. 70)\n",
    "# the less correlated they are, the less reliable is the early revenue as an optimization metric for a marketing campaign\n",
    "fig, data = da.plot_early_late_revenue_correlation(days_limit=70)\n",
    "fig"
   ]
  },
  {
   "cell_type": "code",
   "execution_count": null,
   "id": "6777d9c2",
   "metadata": {},
   "outputs": [],
   "source": [
    "# If spending breaks is empty, it will find default values, you can specify your own groups in the format Dict[str, float],\n",
    "# e.g. {'No spend': 0, 'Low spend': 10, 'Medium spend': 100, 'High spend': 1000}\n",
    "data = da.estimate_ltv_impact(\n",
    "    days_limit=60, \n",
    "    spending_breaks={},\n",
    "    population_increase={\"No spend\": 0.2, \"Low spend\": 0.1, \"High spend\": 0.05}, \n",
    "    )\n",
    "data"
   ]
  },
  {
   "cell_type": "code",
   "execution_count": null,
   "metadata": {},
   "outputs": [],
   "source": []
  }
 ],
 "metadata": {
  "kernelspec": {
   "display_name": ".venv",
   "language": "python",
   "name": "python3"
  },
  "language_info": {
   "codemirror_mode": {
    "name": "ipython",
    "version": 3
   },
   "file_extension": ".py",
   "mimetype": "text/x-python",
   "name": "python",
   "nbconvert_exporter": "python",
   "pygments_lexer": "ipython3",
   "version": "3.9.19"
  }
 },
 "nbformat": 4,
 "nbformat_minor": 5
}
