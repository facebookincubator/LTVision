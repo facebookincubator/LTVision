{
 "cells": [
  {
   "cell_type": "code",
   "execution_count": 1,
   "id": "baa362e4",
   "metadata": {},
   "outputs": [],
   "source": [
    "# Copyright (c) Meta Platforms, Inc. and affiliates.\n",
    "\n",
    "# This source code is licensed under the BSD-style license found in the\n",
    "# LICENSE file in the root directory of this source tree."
   ]
  },
  {
   "cell_type": "code",
   "execution_count": 2,
   "id": "01bd87fb-c95d-47e2-8dbb-3cdd0d846dd9",
   "metadata": {},
   "outputs": [],
   "source": [
    "# pip install kaleido"
   ]
  },
  {
   "cell_type": "code",
   "execution_count": 3,
   "id": "4a8c55c0",
   "metadata": {},
   "outputs": [],
   "source": [
    "from src import LTVSyntheticData\n",
    "from src import LTVexploratory\n",
    "from src.graph import save_plot"
   ]
  },
  {
   "cell_type": "markdown",
   "id": "c5e7ab3c",
   "metadata": {},
   "source": [
    "### Generate synthetic data "
   ]
  },
  {
   "cell_type": "code",
   "execution_count": 4,
   "id": "d5c84eec",
   "metadata": {},
   "outputs": [],
   "source": [
    "synth_data_gen = LTVSyntheticData(n_users=20000, random_seed=42)\n",
    "customer_table = synth_data_gen.get_customers_data()\n",
    "event_table = synth_data_gen.get_events_data()\n",
    "\n",
    "# Call the exploratory class\n",
    "da = LTVexploratory(\n",
    "    customer_table, \n",
    "    event_table,\n",
    "    registration_time_col='registration_date',\n",
    "    event_time_col='event_date',\n",
    "    event_name_col='event_name',\n",
    "    value_col='value'\n",
    "    )"
   ]
  },
  {
   "cell_type": "code",
   "execution_count": null,
   "id": "b2fbb3ba",
   "metadata": {},
   "outputs": [],
   "source": [
    "# The ‘customer’ table is a user-level table that defines the Day0 of each user who has engaged with \n",
    "# the business, marking the initial point of interaction or anchor event, \n",
    "# such as installing the App or making a first purchase.\n",
    "\n",
    "customer_table.head()"
   ]
  },
  {
   "cell_type": "code",
   "execution_count": null,
   "id": "a1a87178",
   "metadata": {},
   "outputs": [],
   "source": [
    "# The ‘event’ table is a transaction-level documentation of all revenue-generating events completed \n",
    "# for the advertising unit.\n",
    "\n",
    "event_table.head()"
   ]
  },
  {
   "cell_type": "markdown",
   "id": "2181ffa7",
   "metadata": {},
   "source": [
    "### Run analysis"
   ]
  },
  {
   "cell_type": "code",
   "execution_count": 7,
   "id": "f8a32fa3",
   "metadata": {},
   "outputs": [],
   "source": [
    "# The plot_customers_intersection function shows how much percent of customers are actually purchasers \n",
    "# and whether there are customers who are present in the customer table but not present in the events table, \n",
    "# and therefore need to be excluded from following analysis.\n"
   ]
  },
  {
   "cell_type": "code",
   "execution_count": null,
   "id": "aab5991b",
   "metadata": {},
   "outputs": [],
   "source": [
    "# Intersection between users in the two datasets\n",
    "fig, data = da.plot_customers_intersection()\n",
    "save_plot(fig, \"images/customer_intersection.png\")\n",
    "\n",
    "\n",
    "# From the demo data output we can see that: \n",
    "# Upper right: 95.6% of customers are not generating any revenue \n",
    "# Lower right: 4.4% of all customers are revenue-generating customers or purchasers \n",
    "# Lower left: 0.0% means everyone in the customer table are also in the events table, therefore, \n",
    "# there’s no need to exclude any customers from following analysis.\n",
    "# Upper left: should always be 0% 0.0%\n"
   ]
  },
  {
   "cell_type": "code",
   "execution_count": null,
   "id": "8bea66ed",
   "metadata": {},
   "outputs": [],
   "source": [
    "# The “plot_paying_customers_flow” function provides further insights into purchasers’ buying behavior overtime, \n",
    "# showing how low, medium and high purchasers flow to the same or different classes at a later point in time. \n",
    "# This function has two input parameters: \n",
    "# early_limit: This parameter sets the time stamp on the left axis, which shows the cumulative value of a customer by that early point in time, \n",
    "# categorized into equally sized and ranked groups: No spend, low spend, medium spend and high spend; It’s set to 7 days by default because most digital campaigns have a 7-day optimization window.\n",
    "# days_limit: This parameter sets the time stamp on the right axis, which shows the cumulative value of the same customer at a later point in time, \n",
    "# again categorized into equally sized and ranked groups: low spend, medium spend and high spend; \n",
    "# feel free to play with this parameter and experiment with different future timestamps (e.g. 120 days, 180 days, 365 days etc.), \n",
    "# to gain a more nuanced exploration of your customers’ purchasing behavior across different time frames. \n",
    "\n",
    "# ---------------------------------------------- #### ---------------------------------------------------\n",
    "# Please note that this visualization includes ALL purchasers defined by the days_limit parameter. \n",
    "# In this example, early_limit is set to 7 days and days_limit is set to 60 days, which means this visualization includes ALL purchasers up to day 60 from initial interaction. \n",
    "\n",
    "\n",
    "fig, data = da.plot_paying_customers_flow(days_limit=60, early_limit=7, spending_breaks={}, end_spending_breaks={})\n",
    "save_plot(fig, \"images/paying_customer_flow.png\", dpi=400) # you can increase the dpi to get a higher resolution\n",
    "fig"
   ]
  },
  {
   "cell_type": "code",
   "execution_count": null,
   "id": "39cd7519",
   "metadata": {},
   "outputs": [],
   "source": [
    "data"
   ]
  },
  {
   "cell_type": "code",
   "execution_count": 11,
   "id": "ba68c52a",
   "metadata": {},
   "outputs": [],
   "source": [
    "# The plot_revenue_pareto function visualizes if a significant portion of revenue was contributed by \n",
    "# a small group of purchasers.\n",
    "# Similar to plot_purchases_distribution, the plot_revenue_pareto function uses the same days_limit \n",
    "# parameter to generate the output and it operates on the same customer cohorts as \n",
    "# the plot_purchases_distribution function. \n",
    "# days_limit: Defines the minimum duration since a customers’ initial interaction, for them \n",
    "# to be included in this visualization. In this example, the limit is set at 60 days."
   ]
  },
  {
   "cell_type": "code",
   "execution_count": null,
   "id": "a8e6eb43",
   "metadata": {},
   "outputs": [],
   "source": [
    "# Visualize how the revenue is concentrated by looking at % of revenue that the highest spending customers contribute\n",
    "fig, data = da.plot_revenue_pareto(days_limit=60)\n",
    "save_plot(fig, \"images/revenue_pareto.png\")\n",
    "fig\n",
    "\n",
    "\n",
    "# From the demo data output we can see that:  \n",
    "# The top 5% highest spending customers contributed to 69% of total revenue\n",
    "# The top 10% contributed to 75% of total revenue\n",
    "# The top 20% contributed to more than 84% of total revenue\n"
   ]
  },
  {
   "cell_type": "code",
   "execution_count": 13,
   "id": "46d04c8b",
   "metadata": {},
   "outputs": [],
   "source": [
    "# Purchase Frequency (or just total purchases) in the first N days of a customer\n",
    "\n",
    "# The plot_purchases_distribution function visualizes the purchase frequency among all purchasers. \n",
    "# This function has two input parameters: \n",
    "# days_limit: This parameter defines the minimum duration since a customers’ initial interaction, \n",
    "# for them to be included in this visualization. In this example, the time frame is set at 60 days, \n",
    "# but you can change it to a time frame that makes most sense for your business. \n",
    "# (e.g. 30 days, 120 days or 365 days etc.)\n",
    "\n",
    "\n",
    "# truncate_share: This parameter defines the percentage of all purchasers that are shown in this visualization, or the percentage of ‘outliers’ that are excluded from this visualization, to make this histogram easier to read. In this example, the truncate_share is set to 0.999, which means that the top 0.1% of the highest spenders were excluded from this visualization. \n"
   ]
  },
  {
   "cell_type": "code",
   "execution_count": null,
   "id": "b64ef6f9",
   "metadata": {},
   "outputs": [],
   "source": [
    "\n",
    "fig, data = da.plot_purchases_distribution(days_limit=60, truncate_share=0.999)\n",
    "save_plot(fig, \"images/purchases_distribution.png\")\n",
    "fig\n",
    "\n",
    "# From the demo data output, we can see that:\n",
    "# 39% of all purchasers have purchased only once \n",
    "# 29% purchased twice\n",
    "# 14% purchased three times"
   ]
  },
  {
   "cell_type": "code",
   "execution_count": 15,
   "id": "91df39df",
   "metadata": {},
   "outputs": [],
   "source": [
    "# The plot_customers_histogram_per_conversion_day function visualizes the duration between the initial \n",
    "# interaction and the first purchase. \n",
    "# This function also uses the days_limit parameter"
   ]
  },
  {
   "cell_type": "code",
   "execution_count": null,
   "id": "bc5c3cf4",
   "metadata": {},
   "outputs": [],
   "source": [
    "# Plot when the customers convert (i.e. generate a revenue event), \n",
    "# showing how many customers are actually captured by the optimization window of the marketing campaign\n",
    "fig, data = da.plot_customers_histogram_per_conversion_day(days_limit=60)\n",
    "save_plot(fig, \"images/customers_histogram_per_conversion_day.png\")\n",
    "fig\n",
    "\n",
    "# From the demo data output we can see that: \n",
    "# 55% of first-time purchases happened within 7 days of the initial interaction\n",
    "# Since the remaining 45% of first purchases happen beyond the 7-day optimization window, \n",
    "# it means that the current digital customer acquisition campaign is missing out on 45% of the purchases \n",
    "# that happen outside the 7-day optimization window"
   ]
  },
  {
   "cell_type": "code",
   "execution_count": 17,
   "id": "df39b387",
   "metadata": {},
   "outputs": [],
   "source": [
    "# The Plot_early_late_revenue_correlation function demonstrates the correlation between short-term and long-term purchase values across various timeframes. \n",
    "# This function also uses the days_limit parameter:"
   ]
  },
  {
   "cell_type": "code",
   "execution_count": null,
   "id": "b89c0319",
   "metadata": {},
   "outputs": [],
   "source": [
    "# Show the correlation of the revenue in the first N days of a customer (in this case 7) with the revenye up to M days (e.g. 70)\n",
    "# the less correlated they are, the less reliable is the early revenue as an optimization metric for a marketing campaign\n",
    "fig, data = da.plot_early_late_revenue_correlation(days_limit=70)\n",
    "save_plot(fig, \"images/early_late_revenue_correlation.jpeg\")\n",
    "# fig\n",
    "\n",
    "# From the demo data output we can see that: \n",
    "# There is high correlation in early time frames. For example, the correlation between day-7 \n",
    "# revenue and day-10 revenue is a robust 95%\n",
    "# However, as time progresses, the correlation between day-7 revenue and future revenue weakens significantly. \n",
    "# By day-22, this correlation has already dropped below 40%. This suggests that day-7 revenue is not a \n",
    "# reliable indicator for revenue on day-22 and beyond.\n",
    "# This diminishing correlation between early and later revenue is a crucial indicator of the potential \n",
    "# value a pLTV strategy could bring to a business.\n"
   ]
  },
  {
   "cell_type": "code",
   "execution_count": null,
   "id": "6777d9c2",
   "metadata": {},
   "outputs": [],
   "source": [
    "# If spending breaks is empty, it will find default values, you can specify your own groups in the format Dict[str, float],\n",
    "# e.g. {'No spend': 0, 'Low spend': 10, 'Medium spend': 100, 'High spend': 1000}\n",
    "# if you are a mobile/gaming company, use True for is_mobile or False if you are eCommerce\n",
    "data = da.estimate_ltv_impact(\n",
    "    days_limit=60,\n",
    "    early_limit=7, \n",
    "    spending_breaks={},\n",
    "    is_mobile=False)\n",
    "data"
   ]
  },
  {
   "cell_type": "code",
   "execution_count": null,
   "id": "a2f5a377",
   "metadata": {},
   "outputs": [],
   "source": []
  }
 ],
 "metadata": {
  "kernelspec": {
   "display_name": "Python 3 (ipykernel)",
   "language": "python",
   "name": "python3"
  },
  "language_info": {
   "codemirror_mode": {
    "name": "ipython",
    "version": 3
   },
   "file_extension": ".py",
   "mimetype": "text/x-python",
   "name": "python",
   "nbconvert_exporter": "python",
   "pygments_lexer": "ipython3",
   "version": "3.9.13"
  },
  "toc": {
   "base_numbering": 1,
   "nav_menu": {},
   "number_sections": true,
   "sideBar": true,
   "skip_h1_title": false,
   "title_cell": "Table of Contents",
   "title_sidebar": "Contents",
   "toc_cell": false,
   "toc_position": {},
   "toc_section_display": true,
   "toc_window_display": false
  },
  "varInspector": {
   "cols": {
    "lenName": 16,
    "lenType": 16,
    "lenVar": 40
   },
   "kernels_config": {
    "python": {
     "delete_cmd_postfix": "",
     "delete_cmd_prefix": "del ",
     "library": "var_list.py",
     "varRefreshCmd": "print(var_dic_list())"
    },
    "r": {
     "delete_cmd_postfix": ") ",
     "delete_cmd_prefix": "rm(",
     "library": "var_list.r",
     "varRefreshCmd": "cat(var_dic_list()) "
    }
   },
   "types_to_exclude": [
    "module",
    "function",
    "builtin_function_or_method",
    "instance",
    "_Feature"
   ],
   "window_display": false
  }
 },
 "nbformat": 4,
 "nbformat_minor": 5
}
