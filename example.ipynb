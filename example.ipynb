{
 "cells": [
  {
   "cell_type": "code",
   "execution_count": null,
   "id": "baa362e4",
   "metadata": {},
   "outputs": [],
   "source": [
    "# Copyright (c) Meta Platforms, Inc. and affiliates.\n",
    "\n",
    "# This source code is licensed under the BSD-style license found in the\n",
    "# LICENSE file in the root directory of this source tree."
   ]
  },
  {
   "cell_type": "code",
   "execution_count": null,
   "id": "4a8c55c0",
   "metadata": {},
   "outputs": [],
   "source": [
    "from src import LTVSyntheticData\n",
    "from src import LTVexploratory"
   ]
  },
  {
   "cell_type": "markdown",
   "id": "c5e7ab3c",
   "metadata": {},
   "source": [
    "### Generate synthetic data "
   ]
  },
  {
   "cell_type": "code",
   "execution_count": null,
   "id": "791b94e6",
   "metadata": {},
   "outputs": [],
   "source": [
    "import pandas as pd\n",
    "import numpy as np\n",
    "\n",
    "events_data = pd.read_csv(\"~/Downloads/event_table_Vshred.csv\")\n",
    "customers_data = pd.read_csv(\"~/Downloads/Customer_table_Vshred.csv\")"
   ]
  },
  {
   "cell_type": "code",
   "execution_count": null,
   "id": "07feba02",
   "metadata": {},
   "outputs": [],
   "source": [
    "events_data.head()"
   ]
  },
  {
   "cell_type": "code",
   "execution_count": null,
   "id": "50731d54",
   "metadata": {},
   "outputs": [],
   "source": [
    "customers_data.head()"
   ]
  },
  {
   "cell_type": "code",
   "execution_count": null,
   "id": "6a290248",
   "metadata": {},
   "outputs": [],
   "source": [
    "da = LTVexploratory(\n",
    "    customers_data, \n",
    "    events_data,\n",
    "    registration_time_col='registration_date',\n",
    "    event_time_col='event_time',\n",
    "    event_name_col='event_name',\n",
    "    value_col='value'\n",
    "    )"
   ]
  },
  {
   "cell_type": "code",
   "execution_count": null,
   "id": "d5c84eec",
   "metadata": {},
   "outputs": [],
   "source": [
    "synth_data_gen = LTVSyntheticData(n_users=20000, random_seed=42)\n",
    "customer_table = synth_data_gen.get_customers_data()\n",
    "event_table = synth_data_gen.get_events_data()\n",
    "\n",
    "# Call the exploratory class\n",
    "da = LTVexploratory(\n",
    "    customer_table, \n",
    "    event_table,\n",
    "    registration_time_col='registration_date',\n",
    "    event_time_col='event_date',\n",
    "    event_name_col='event_name',\n",
    "    value_col='value'\n",
    "    )"
   ]
  },
  {
   "cell_type": "code",
   "execution_count": null,
   "id": "b2fbb3ba",
   "metadata": {},
   "outputs": [],
   "source": [
    "customer_table.head()"
   ]
  },
  {
   "cell_type": "code",
   "execution_count": null,
   "id": "a1a87178",
   "metadata": {},
   "outputs": [],
   "source": [
    "event_table.head()"
   ]
  },
  {
   "cell_type": "markdown",
   "id": "2181ffa7",
   "metadata": {},
   "source": [
    "### Run analysis"
   ]
  },
  {
   "cell_type": "code",
   "execution_count": null,
   "id": "aab5991b",
   "metadata": {},
   "outputs": [],
   "source": [
    "# Intersection between users in the two datasets\n",
    "fig, data = da.plot_customers_intersection()\n",
    "fig"
   ]
  },
  {
   "cell_type": "code",
   "execution_count": null,
   "id": "8bea66ed",
   "metadata": {},
   "outputs": [],
   "source": [
    "# Paying customers flow from a classification at the beginning to another classification after a longer period.\n",
    "fig, data = da.plot_paying_customers_flow(days_limit=60, early_limit=7, spending_breaks={'No spend': 0, 'Low spend': 10, 'Medium spend': 100, 'High spend': 99999})\n",
    "fig"
   ]
  },
  {
   "cell_type": "code",
   "execution_count": null,
   "id": "3f991ff1",
   "metadata": {},
   "outputs": [],
   "source": [
    "data"
   ]
  },
  {
   "cell_type": "code",
   "execution_count": null,
   "id": "a8e6eb43",
   "metadata": {},
   "outputs": [],
   "source": [
    "# Visualize how the revenue is concentrated by looking at % of revenue that the highest spending customers contribute\n",
    "fig, data = da.plot_revenue_pareto(days_limit=60)"
   ]
  },
  {
   "cell_type": "code",
   "execution_count": null,
   "id": "b64ef6f9",
   "metadata": {},
   "outputs": [],
   "source": [
    "# Purchase Frequency (or just total purchases) in the first N days of a customer\n",
    "fig, data = da.plot_purchases_distribution(days_limit=60, truncate_share=0.999)\n",
    "fig\n"
   ]
  },
  {
   "cell_type": "code",
   "execution_count": null,
   "id": "bc5c3cf4",
   "metadata": {},
   "outputs": [],
   "source": [
    "# Plot when the customers convert (i.e. generate a revenue event), \n",
    "# showing how many customers are actually captured by the optimization window of the marketing campaign\n",
    "fig, data = da.plot_customers_histogram_per_conversion_day(days_limit=60)\n",
    "fig"
   ]
  },
  {
   "cell_type": "code",
   "execution_count": null,
   "id": "b89c0319",
   "metadata": {},
   "outputs": [],
   "source": [
    "# Show the correlation of the revenue in the first N days of a customer (in this case 7) with the revenye up to M days (e.g. 70)\n",
    "# the less correlated they are, the less reliable is the early revenue as an optimization metric for a marketing campaign\n",
    "fig, data = da.plot_early_late_revenue_correlation(days_limit=70)\n",
    "fig"
   ]
  },
  {
   "cell_type": "code",
   "execution_count": null,
   "id": "6777d9c2",
   "metadata": {},
   "outputs": [],
   "source": [
    "data = da.estimate_highest_impact(days_limit=60, spending_breaks={'No spend': 0, 'Low spend': 10, 'Medium spend': 100, 'High spend': 99999})\n",
    "data"
   ]
  },
  {
   "cell_type": "code",
   "execution_count": null,
   "id": "0b0f2d4a",
   "metadata": {},
   "outputs": [],
   "source": []
  },
  {
   "cell_type": "code",
   "execution_count": null,
   "id": "028885b3",
   "metadata": {},
   "outputs": [],
   "source": []
  },
  {
   "cell_type": "code",
   "execution_count": null,
   "id": "d0a54d4c",
   "metadata": {},
   "outputs": [],
   "source": []
  }
 ],
 "metadata": {
  "kernelspec": {
   "display_name": "ltv_venv",
   "language": "python",
   "name": "ltv_venv"
  },
  "language_info": {
   "codemirror_mode": {
    "name": "ipython",
    "version": 3
   },
   "file_extension": ".py",
   "mimetype": "text/x-python",
   "name": "python",
   "nbconvert_exporter": "python",
   "pygments_lexer": "ipython3",
   "version": "3.9.13"
  }
 },
 "nbformat": 4,
 "nbformat_minor": 5
}
